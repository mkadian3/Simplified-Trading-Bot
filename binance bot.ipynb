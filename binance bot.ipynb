{
 "cells": [
  {
   "cell_type": "code",
   "execution_count": 4,
   "id": "d216521b-9957-47b6-9766-974310a3fda6",
   "metadata": {},
   "outputs": [
    {
     "name": "stdout",
     "output_type": "stream",
     "text": [
      "Collecting python-binance\n",
      "  Downloading python_binance-1.0.29-py2.py3-none-any.whl.metadata (13 kB)\n",
      "Requirement already satisfied: requests in c:\\users\\mkadi\\anaconda3\\lib\\site-packages (from python-binance) (2.32.3)\n",
      "Requirement already satisfied: six in c:\\users\\mkadi\\anaconda3\\lib\\site-packages (from python-binance) (1.16.0)\n",
      "Collecting dateparser (from python-binance)\n",
      "  Downloading dateparser-1.2.2-py3-none-any.whl.metadata (29 kB)\n",
      "Requirement already satisfied: aiohttp in c:\\users\\mkadi\\anaconda3\\lib\\site-packages (from python-binance) (3.10.5)\n",
      "Collecting websockets (from python-binance)\n",
      "  Downloading websockets-15.0.1-cp312-cp312-win_amd64.whl.metadata (7.0 kB)\n",
      "Collecting pycryptodome (from python-binance)\n",
      "  Downloading pycryptodome-3.23.0-cp37-abi3-win_amd64.whl.metadata (3.5 kB)\n",
      "Requirement already satisfied: aiohappyeyeballs>=2.3.0 in c:\\users\\mkadi\\anaconda3\\lib\\site-packages (from aiohttp->python-binance) (2.4.0)\n",
      "Requirement already satisfied: aiosignal>=1.1.2 in c:\\users\\mkadi\\anaconda3\\lib\\site-packages (from aiohttp->python-binance) (1.2.0)\n",
      "Requirement already satisfied: attrs>=17.3.0 in c:\\users\\mkadi\\anaconda3\\lib\\site-packages (from aiohttp->python-binance) (23.1.0)\n",
      "Requirement already satisfied: frozenlist>=1.1.1 in c:\\users\\mkadi\\anaconda3\\lib\\site-packages (from aiohttp->python-binance) (1.4.0)\n",
      "Requirement already satisfied: multidict<7.0,>=4.5 in c:\\users\\mkadi\\anaconda3\\lib\\site-packages (from aiohttp->python-binance) (6.0.4)\n",
      "Requirement already satisfied: yarl<2.0,>=1.0 in c:\\users\\mkadi\\anaconda3\\lib\\site-packages (from aiohttp->python-binance) (1.11.0)\n",
      "Requirement already satisfied: python-dateutil>=2.7.0 in c:\\users\\mkadi\\anaconda3\\lib\\site-packages (from dateparser->python-binance) (2.9.0.post0)\n",
      "Collecting pytz>=2024.2 (from dateparser->python-binance)\n",
      "  Downloading pytz-2025.2-py2.py3-none-any.whl.metadata (22 kB)\n",
      "Requirement already satisfied: regex>=2024.9.11 in c:\\users\\mkadi\\anaconda3\\lib\\site-packages (from dateparser->python-binance) (2024.9.11)\n",
      "Collecting tzlocal>=0.2 (from dateparser->python-binance)\n",
      "  Downloading tzlocal-5.3.1-py3-none-any.whl.metadata (7.6 kB)\n",
      "Requirement already satisfied: charset-normalizer<4,>=2 in c:\\users\\mkadi\\anaconda3\\lib\\site-packages (from requests->python-binance) (3.3.2)\n",
      "Requirement already satisfied: idna<4,>=2.5 in c:\\users\\mkadi\\anaconda3\\lib\\site-packages (from requests->python-binance) (3.7)\n",
      "Requirement already satisfied: urllib3<3,>=1.21.1 in c:\\users\\mkadi\\anaconda3\\lib\\site-packages (from requests->python-binance) (2.2.3)\n",
      "Requirement already satisfied: certifi>=2017.4.17 in c:\\users\\mkadi\\anaconda3\\lib\\site-packages (from requests->python-binance) (2025.1.31)\n",
      "Requirement already satisfied: tzdata in c:\\users\\mkadi\\anaconda3\\lib\\site-packages (from tzlocal>=0.2->dateparser->python-binance) (2023.3)\n",
      "Downloading python_binance-1.0.29-py2.py3-none-any.whl (130 kB)\n",
      "Downloading dateparser-1.2.2-py3-none-any.whl (315 kB)\n",
      "Downloading pycryptodome-3.23.0-cp37-abi3-win_amd64.whl (1.8 MB)\n",
      "   ---------------------------------------- 0.0/1.8 MB ? eta -:--:--\n",
      "   ----------------- ---------------------- 0.8/1.8 MB 4.8 MB/s eta 0:00:01\n",
      "   ---------------------------------------- 1.8/1.8 MB 3.9 MB/s eta 0:00:00\n",
      "Downloading websockets-15.0.1-cp312-cp312-win_amd64.whl (176 kB)\n",
      "Downloading pytz-2025.2-py2.py3-none-any.whl (509 kB)\n",
      "Downloading tzlocal-5.3.1-py3-none-any.whl (18 kB)\n",
      "Installing collected packages: pytz, websockets, tzlocal, pycryptodome, dateparser, python-binance\n",
      "  Attempting uninstall: pytz\n",
      "    Found existing installation: pytz 2024.1\n",
      "    Uninstalling pytz-2024.1:\n",
      "      Successfully uninstalled pytz-2024.1\n",
      "Successfully installed dateparser-1.2.2 pycryptodome-3.23.0 python-binance-1.0.29 pytz-2025.2 tzlocal-5.3.1 websockets-15.0.1\n",
      "Note: you may need to restart the kernel to use updated packages.\n"
     ]
    }
   ],
   "source": [
    "pip install python-binance"
   ]
  },
  {
   "cell_type": "code",
   "execution_count": 20,
   "id": "c356cec8-ff89-4ab7-a4a6-ffc93df7da50",
   "metadata": {},
   "outputs": [],
   "source": [
    "API_KEY = 'shdg4LieNnesTCcFqYwRwLHbXPRd8olrGEqsNjlOQTvxwoJ1hMPDmLAfyNBDjayn'\n",
    "API_SECRET = 'lcL5A9efdtjVwFdRa0oSdf0q0FDKz8moUQmhyq5jycUdH4iApg9l2fh96Lduqx8l'"
   ]
  },
  {
   "cell_type": "code",
   "execution_count": 34,
   "id": "150dd0d4-8d5a-4838-b96b-72bd4cbcfa97",
   "metadata": {},
   "outputs": [],
   "source": [
    "import logging\n",
    "from binance.client import Client\n",
    "from binance.enums import *\n",
    "import sys"
   ]
  },
  {
   "cell_type": "code",
   "execution_count": 36,
   "id": "afb06300-3380-4f8f-a638-6ae7c16eb8cb",
   "metadata": {},
   "outputs": [],
   "source": [
    "# Set up a friendly log file to keep track of everything\n",
    "logging.basicConfig(\n",
    "    filename='trading_bot.log',\n",
    "    level=logging.INFO,\n",
    "    format='%(asctime)s - %(levelname)s - %(message)s'\n",
    ")\n"
   ]
  },
  {
   "cell_type": "code",
   "execution_count": 38,
   "id": "8b9aff93-e4d5-453b-9d55-38b2e7dec0a2",
   "metadata": {},
   "outputs": [],
   "source": [
    "class BasicBot:\n",
    "    def __init__(self, api_key, api_secret, testnet=True):\n",
    "        self.client = Client(api_key, api_secret, testnet=testnet)\n",
    "        self.base_url = \"https://testnet.binancefuture.com\"\n",
    "        logging.info(\"Hey, bot is ready! Using Testnet URL: %s\", self.base_url)\n",
    "        print(\"Hey there! Your trading bot is all set up on the Binance Testnet. Let’s make some moves!\")\n",
    "\n",
    "    def validate_input(self, symbol, quantity, price=None, order_type=None, side=None):\n",
    "        if not all([symbol, quantity, order_type, side]):\n",
    "            raise ValueError(\"Oops! Looks like you forgot something—please fill in all the details!\")\n",
    "        if not isinstance(quantity, (int, float)) or quantity <= 0:\n",
    "            raise ValueError(\"Hmm, quantity needs to be a positive number. Try again!\")\n",
    "        if order_type not in [\"market\", \"limit\", \"stop_limit\"]:\n",
    "            raise ValueError(\"Whoa! Order type should be market, limit, or stop_limit. Pick one!\")\n",
    "        if side not in [\"buy\", \"sell\"]:\n",
    "            raise ValueError(\"Hey, side should be buy or sell. Which one are you feeling?\")\n",
    "        if order_type == \"limit\" and not price:\n",
    "            raise ValueError(\"For limit orders, I need a price to work with. Can you add that?\")\n",
    "        if order_type == \"stop_limit\" and not price:\n",
    "            raise ValueError(\"Stop-limit needs a stop price. Let’s add that, okay?\")\n",
    "        return True\n",
    "\n",
    "    def place_order(self, symbol, quantity, order_type, side, price=None, stop_price=None):\n",
    "        try:\n",
    "            self.validate_input(symbol, quantity, price, order_type, side)\n",
    "            symbol = symbol.upper() + \"USDT\"\n",
    "\n",
    "            if order_type == \"market\":\n",
    "                print(f\"Alright, placing a {side} market order for {quantity} {symbol}—here we go!\")\n",
    "                order = self.client.create_order(\n",
    "                    symbol=symbol,\n",
    "                    side=side.upper(),\n",
    "                    type=ORDER_TYPE_MARKET,\n",
    "                    quantity=quantity\n",
    "                )\n",
    "                logging.info(\"Just placed a %s market order for %s units of %s\", side, quantity, symbol)\n",
    "\n",
    "            elif order_type == \"limit\":\n",
    "                print(f\"Cool, setting a {side} limit order for {quantity} {symbol} at {price}! Let’s do this.\")\n",
    "                order = self.client.create_order(\n",
    "                    symbol=symbol,\n",
    "                    side=side.upper(),\n",
    "                    type=ORDER_TYPE_LIMIT,\n",
    "                    timeInForce=TIME_IN_FORCE_GTC,\n",
    "                    quantity=quantity,\n",
    "                    price=price\n",
    "                )\n",
    "                logging.info(\"Just placed a %s limit order for %s units of %s at %s\", side, quantity, symbol, price)\n",
    "\n",
    "            elif order_type == \"stop_limit\":\n",
    "                print(f\"Nice choice! Placing a {side} stop-limit order for {quantity} {symbol} at stop price {stop_price}.\")\n",
    "                order = self.client.create_order(\n",
    "                    symbol=symbol,\n",
    "                    side=side.upper(),\n",
    "                    type=ORDER_TYPE_STOP_MARKET,\n",
    "                    stopPrice=stop_price,\n",
    "                    closePosition='true' if side == 'sell' else 'false',\n",
    "                    quantity=quantity\n",
    "                )\n",
    "                logging.info(\"Just placed a %s stop_limit order for %s units of %s at stop price %s\", side, quantity, symbol, stop_price)\n",
    "\n",
    "            logging.info(\"Order response: %s\", order)\n",
    "            print(f\"Success! Your {side} {order_type} order for {quantity} {symbol} is {order['status']}. Check the log for details!\")\n",
    "            return order\n",
    "\n",
    "        except Exception as e:\n",
    "            logging.error(\"Uh-oh, hit a snag: %s\", str(e))\n",
    "            print(f\"Oops! Something went wrong: {str(e)}. Check the log for more info.\")\n",
    "            return None\n"
   ]
  },
  {
   "cell_type": "code",
   "execution_count": 40,
   "id": "11586c93-3bdb-456a-8034-6f3363e297e1",
   "metadata": {},
   "outputs": [],
   "source": [
    "def get_user_input():\n",
    "    print(\"\\nLet’s get started! Tell me what you want to trade.\")\n",
    "    symbol = input(\"What trading pair? (e.g., BTC): \").strip()\n",
    "    quantity = float(input(\"How many units? (e.g., 0.1): \").strip())\n",
    "    order_type = input(\"What kind of order? (market/limit/stop_limit): \").strip().lower()\n",
    "    side = input(\"Buy or sell? (choose one): \").strip().lower()\n",
    "    price = float(input(\"What price? (for limit/stop_limit, or 0 for market): \").strip()) if order_type in [\"limit\", \"stop_limit\"] else 0\n",
    "    stop_price = float(input(\"What stop price? (for stop_limit, or 0 otherwise): \").strip()) if order_type == \"stop_limit\" else 0\n",
    "    return symbol, quantity, order_type, side, price or None, stop_price or None\n"
   ]
  },
  {
   "cell_type": "code",
   "execution_count": 42,
   "id": "bea522d8-ff40-49a6-b88f-dfdb39b5cf22",
   "metadata": {},
   "outputs": [
    {
     "name": "stdout",
     "output_type": "stream",
     "text": [
      "Hey there! Your trading bot is all set up on the Binance Testnet. Let’s make some moves!\n",
      "\n",
      "What would you like to do?\n",
      "1. Place an Order\n",
      "2. Call it a day\n"
     ]
    },
    {
     "name": "stdin",
     "output_type": "stream",
     "text": [
      "Pick an option (1-2):  place an order\n"
     ]
    },
    {
     "name": "stdout",
     "output_type": "stream",
     "text": [
      "Hmm, that’s not an option. Let’s try 1 or 2!\n",
      "\n",
      "What would you like to do?\n",
      "1. Place an Order\n",
      "2. Call it a day\n"
     ]
    },
    {
     "name": "stdin",
     "output_type": "stream",
     "text": [
      "Pick an option (1-2):  1\n"
     ]
    },
    {
     "name": "stdout",
     "output_type": "stream",
     "text": [
      "\n",
      "Let’s get started! Tell me what you want to trade.\n"
     ]
    },
    {
     "name": "stdin",
     "output_type": "stream",
     "text": [
      "What trading pair? (e.g., BTC):  BTS\n",
      "How many units? (e.g., 0.1):  0.5\n",
      "What kind of order? (market/limit/stop_limit):  market price\n",
      "Buy or sell? (choose one):  sell\n"
     ]
    },
    {
     "name": "stdout",
     "output_type": "stream",
     "text": [
      "Oops! Something went wrong: Whoa! Order type should be market, limit, or stop_limit. Pick one!. Check the log for more info.\n",
      "\n",
      "What would you like to do?\n",
      "1. Place an Order\n",
      "2. Call it a day\n"
     ]
    },
    {
     "name": "stdin",
     "output_type": "stream",
     "text": [
      "Pick an option (1-2):  2\n"
     ]
    },
    {
     "name": "stdout",
     "output_type": "stream",
     "text": [
      "Alright, taking a break! See you next time!\n"
     ]
    }
   ],
   "source": [
    "def main():\n",
    "    api_key = \"shdg4LieNnesTCcFqYwRwLHbXPRd8olrGEqsNjlOQTvxwoJ1hMPDmLAfyNBDjayn\"\n",
    "    api_secret = \"lcL5A9efdtjVwFdRa0oSdf0q0FDKz8moUQmhyq5jycUdH4iApg9l2fh96Lduqx8l\"\n",
    "\n",
    "    if not api_key or not api_secret:\n",
    "        print(\"Hey, I need your API key and secret to get started. Please set those up!\")\n",
    "        return\n",
    "\n",
    "    bot = BasicBot(api_key, api_secret)\n",
    "    \n",
    "    while True:\n",
    "        print(\"\\nWhat would you like to do?\")\n",
    "        print(\"1. Place an Order\")\n",
    "        print(\"2. Call it a day\")\n",
    "        choice = input(\"Pick an option (1-2): \").strip()\n",
    "\n",
    "        if choice == \"1\":\n",
    "            symbol, quantity, order_type, side, price, stop_price = get_user_input()\n",
    "            if order_type == \"stop_limit\" and stop_price == 0:\n",
    "                print(\"Hold on! Stop-limit needs a stop price. Let’s try that again.\")\n",
    "                continue\n",
    "            bot.place_order(symbol, quantity, order_type, side, price, stop_price)\n",
    "        elif choice == \"2\":\n",
    "            print(\"Alright, taking a break! See you next time!\")\n",
    "            break\n",
    "        else:\n",
    "            print(\"Hmm, that’s not an option. Let’s try 1 or 2!\")\n",
    "\n",
    "if __name__ == \"__main__\":\n",
    "    main()"
   ]
  },
  {
   "cell_type": "code",
   "execution_count": null,
   "id": "8a8cf7b9-e085-4643-80c0-1c3af9d24d9b",
   "metadata": {},
   "outputs": [],
   "source": []
  }
 ],
 "metadata": {
  "kernelspec": {
   "display_name": "Python [conda env:base] *",
   "language": "python",
   "name": "conda-base-py"
  },
  "language_info": {
   "codemirror_mode": {
    "name": "ipython",
    "version": 3
   },
   "file_extension": ".py",
   "mimetype": "text/x-python",
   "name": "python",
   "nbconvert_exporter": "python",
   "pygments_lexer": "ipython3",
   "version": "3.12.7"
  }
 },
 "nbformat": 4,
 "nbformat_minor": 5
}
